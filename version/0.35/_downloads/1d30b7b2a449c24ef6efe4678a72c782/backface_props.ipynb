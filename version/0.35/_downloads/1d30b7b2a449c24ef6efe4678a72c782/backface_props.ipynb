{
  "cells": [
    {
      "cell_type": "code",
      "execution_count": null,
      "metadata": {
        "collapsed": false
      },
      "outputs": [],
      "source": [
        "%matplotlib inline\nfrom pyvista import set_plot_theme\nset_plot_theme('document')"
      ]
    },
    {
      "cell_type": "markdown",
      "metadata": {},
      "source": [
        "\n\n# Setting Backface Properties\n\nBy default front and backface rendering uses the same properties. In certain\nsituations it can be useful to set different properties for backfaces than\nfor frontfaces.\n\nOne straightforward example is when a closed (or close enough) surface has a\ndifferent color on the inside. Note that the notion of \"inside\" and \"outside\"\ndepend on the orientation of the surface normals:\n"
      ]
    },
    {
      "cell_type": "code",
      "execution_count": null,
      "metadata": {
        "collapsed": false
      },
      "outputs": [],
      "source": [
        "import numpy as np\n\nimport pyvista as pv\nfrom pyvista import examples\n\nmesh = pv.ParametricEllipsoid(min_v=np.pi / 2 - 0.2, max_v=np.pi / 2 + 0.2)\n\n# create a shifted copy with flipped normals\nmesh_inside_out = mesh.translate((0, 0, 1), inplace=False)\nmesh_inside_out.compute_normals(flip_normals=True, inplace=True)\nmeshes = mesh + mesh_inside_out\n\nbackface_params = dict(color='orangered')\nmeshes.plot(color='aquamarine', backface_params=backface_params, smooth_shading=True)"
      ]
    },
    {
      "cell_type": "markdown",
      "metadata": {},
      "source": [
        "A more interesting use case is helping visualize the orientation of complex,\nself-intersecting surfaces. For instance :func:`Catalan's minimal surface\n<pyvista.ParametricCatalanMinimal>` has a complex shape, and coloring the\nfront and backfaces differently helps viewers comprehend the intricate\nstructure of the surface. This example also demonstrates use of the\n:attr:`backface_prop <pyvista.Actor.backface_prop>` property of the\n:class:`pyvista.Actor` class.\n\n"
      ]
    },
    {
      "cell_type": "code",
      "execution_count": null,
      "metadata": {
        "collapsed": false
      },
      "outputs": [],
      "source": [
        "catalan = pv.ParametricCatalanMinimal()\nplotter = pv.Plotter()\nactor = plotter.add_mesh(catalan, color='dodgerblue', smooth_shading=True)\nbprop = actor.backface_prop\nbprop.color = 'forestgreen'\nbprop.specular = 1.0\nbprop.specular_power = 50.0\nplotter.show()"
      ]
    },
    {
      "cell_type": "markdown",
      "metadata": {},
      "source": [
        "In the case of non-orientable surfaces, adding specific backface properties can\nmake the non-orientable quality very obvious by the emergence of \"seams\"\nwhere the face properties are discontinuous.\n\n"
      ]
    },
    {
      "cell_type": "code",
      "execution_count": null,
      "metadata": {
        "collapsed": false
      },
      "outputs": [],
      "source": [
        "henneberg = pv.ParametricHenneberg().scale(0.25, inplace=False)\nklein = pv.ParametricKlein().rotate_z(150, inplace=False).translate((6, 0, 0), inplace=False)\nmeshes = henneberg + klein\n\nbackface_params = dict(color='mediumseagreen', specular=1.0, specular_power=50.0)\nmeshes.plot(color='gold', backface_params=backface_params, smooth_shading=True)"
      ]
    },
    {
      "cell_type": "markdown",
      "metadata": {},
      "source": [
        "Of course we aren't constrained to only setting distinct colors for backfaces;\nmost :class:`pyvista.Property` attributes can be overridden. However, some of\nthese have no effect, while others merely don't make any sense. For instance,\nmost objects have the same opacity no matter which direction you look at them.\nHere is a GIF animation circling around such an asymmetrically opaque M\u00f6bius\nstrip:\n\n"
      ]
    },
    {
      "cell_type": "code",
      "execution_count": null,
      "metadata": {
        "collapsed": false
      },
      "outputs": [],
      "source": [
        "mobius = pv.ParametricMobius().rotate_z(-90, inplace=False)\nbackface_params = dict(opacity=0.5)\nplotter = pv.Plotter()\nplotter.add_mesh(mobius, color='deepskyblue', backface_params=backface_params, smooth_shading=True)\nplotter.open_gif('mobius_semiopaque.gif')\n\nviewup = [0, 0, 1]\norbit = plotter.generate_orbital_path(n_points=24, shift=0.0, viewup=viewup)\nplotter.orbit_on_path(orbit, write_frames=True, viewup=viewup, step=0.02)"
      ]
    },
    {
      "cell_type": "markdown",
      "metadata": {},
      "source": [
        "# Apply Backface Properties to Textured Meshes\nBackface textures can also be applied to meshes that have textures applied to\nthem. For this example we load the globe texture with\n:func:`pyvista.examples.load_globe() <pyvista.examples.examples.load_globe>`,\nclip it, and then apply a different color to the interior surface.\n\nThe lighting has been disabled for this example to demonstrate how you can\nmake the interior of the surface appear occluded without any directional\nlighting simply by providing a different color for backface.\n\n"
      ]
    },
    {
      "cell_type": "code",
      "execution_count": null,
      "metadata": {
        "collapsed": false
      },
      "outputs": [],
      "source": [
        "globe = examples.load_globe()\nclipped = globe.clip(normal='z', value=4.37e9)\n\npl = pv.Plotter()\npl.add_mesh(\n    clipped, backface_params={'color': [0.2, 0.2, 0.2]}, lighting=False, smooth_shading=True\n)\npl.show()"
      ]
    },
    {
      "cell_type": "markdown",
      "metadata": {},
      "source": [
        "# Backface Properties and Physically Based Rendering\nNote that backfaces are automatically culled when physically based rendering\nis enabled, regardless of the settings of backface parameters.\n\n"
      ]
    },
    {
      "cell_type": "code",
      "execution_count": null,
      "metadata": {
        "collapsed": false
      },
      "outputs": [],
      "source": [
        "sphere = pv.Sphere()\nclipped_sphere = sphere.clip(normal='z', value=0.4)\n\npl = pv.Plotter()\npl.set_environment_texture(examples.download_sky_box_cube_map())\npl.add_mesh(\n    clipped_sphere,\n    backface_params={'color': 'r'},\n    pbr=True,\n    metallic=1.0,\n    roughness=0.2,\n)\npl.show()"
      ]
    },
    {
      "cell_type": "markdown",
      "metadata": {},
      "source": [
        "See also the `sphere_eversion_example` example which relies on\ndistinguishing the inside and the outside of a sphere.\n\n"
      ]
    }
  ],
  "metadata": {
    "kernelspec": {
      "display_name": "Python 3",
      "language": "python",
      "name": "python3"
    },
    "language_info": {
      "codemirror_mode": {
        "name": "ipython",
        "version": 3
      },
      "file_extension": ".py",
      "mimetype": "text/x-python",
      "name": "python",
      "nbconvert_exporter": "python",
      "pygments_lexer": "ipython3",
      "version": "3.8.0"
    }
  },
  "nbformat": 4,
  "nbformat_minor": 0
}