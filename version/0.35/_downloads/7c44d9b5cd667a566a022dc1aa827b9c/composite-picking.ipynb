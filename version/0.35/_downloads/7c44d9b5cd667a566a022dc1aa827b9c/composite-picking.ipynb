{
  "cells": [
    {
      "cell_type": "code",
      "execution_count": null,
      "metadata": {
        "collapsed": false
      },
      "outputs": [],
      "source": [
        "%matplotlib inline\nfrom pyvista import set_plot_theme\nset_plot_theme('document')"
      ]
    },
    {
      "cell_type": "markdown",
      "metadata": {},
      "source": [
        "\n\n# Composite Picking\n\nDemonstrate how to pick individual blocks of a :class:`pyvista.MultiBlock`\nusing :func:`pyvista.Plotter.enable_block_picking`.\n"
      ]
    },
    {
      "cell_type": "code",
      "execution_count": null,
      "metadata": {
        "collapsed": false
      },
      "outputs": [],
      "source": [
        "import numpy as np\n\nimport pyvista as pv"
      ]
    },
    {
      "cell_type": "markdown",
      "metadata": {},
      "source": [
        "# Create a MultiBlock Dataset\nCreate 100 superellipsoids using :func:`pyvista.ParametricSuperEllipsoid`\n\n"
      ]
    },
    {
      "cell_type": "code",
      "execution_count": null,
      "metadata": {
        "collapsed": false
      },
      "outputs": [],
      "source": [
        "def make_poly():\n    \"\"\"Create a superellipsoid in a random location.\"\"\"\n    poly = pv.ParametricSuperEllipsoid(\n        n1=np.random.random(),\n        n2=np.random.random() * 2,\n        u_res=50,\n        v_res=50,\n    )\n    poly.points += np.random.random(3) * 20\n    return poly\n\n\n# Assemble the multiblock and plot it using the default plotting settings\nblocks = pv.MultiBlock([make_poly() for _ in range(100)])\nblocks.plot()"
      ]
    },
    {
      "cell_type": "markdown",
      "metadata": {},
      "source": [
        "# Enable Block Picking\nAdd ``blocks`` to a :class:`pyvista.Plotter` and enable block picking.  For\nfun, let's also enable physically based rendering and set the callback to set\nthe block color to red when the block is clicked and unset the color if the\ncolor has already been set for the block.\n\n"
      ]
    },
    {
      "cell_type": "code",
      "execution_count": null,
      "metadata": {
        "collapsed": false
      },
      "outputs": [],
      "source": [
        "pl = pv.Plotter()\nactor, mapper = pl.add_composite(blocks, color=\"w\", pbr=True, metallic=True)\n\n\ndef callback(index, *args):\n    \"\"\"Change a block to red if color is unset, and back to the actor color if set.\"\"\"\n    if mapper.block_attr[index].color is None:\n        mapper.block_attr[index].color = \"r\"\n    else:\n        mapper.block_attr[index].color = None\n\n\npl.enable_block_picking(callback, side=\"left\")\npl.background_color = \"w\"\npl.show()"
      ]
    }
  ],
  "metadata": {
    "kernelspec": {
      "display_name": "Python 3",
      "language": "python",
      "name": "python3"
    },
    "language_info": {
      "codemirror_mode": {
        "name": "ipython",
        "version": 3
      },
      "file_extension": ".py",
      "mimetype": "text/x-python",
      "name": "python",
      "nbconvert_exporter": "python",
      "pygments_lexer": "ipython3",
      "version": "3.8.0"
    }
  },
  "nbformat": 4,
  "nbformat_minor": 0
}