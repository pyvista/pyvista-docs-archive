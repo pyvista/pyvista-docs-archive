{
  "cells": [
    {
      "cell_type": "code",
      "execution_count": null,
      "metadata": {
        "collapsed": false
      },
      "outputs": [],
      "source": [
        "%matplotlib inline\nfrom pyvista import set_plot_theme\nset_plot_theme('document')"
      ]
    },
    {
      "cell_type": "markdown",
      "metadata": {},
      "source": [
        "\n\n# Create a PointSet\n\nA :class:`pyvista.PointSet` is a concrete class representing a set of points\nthat specifies the interface for datasets that explicitly use \"point\" arrays to\nrepresent geometry. This class is useful for improving the performance of\nfilters on point clouds.\n\nThis example shows the performance improvement when clipping using the\n:func:`pyvista.DataSet.clip` filter on a :class:`pyvista.PointSet`.\n"
      ]
    },
    {
      "cell_type": "code",
      "execution_count": null,
      "metadata": {
        "collapsed": false
      },
      "outputs": [],
      "source": [
        "import time\n\nimport pyvista as pv\nfrom pyvista import examples\n\nlidar = examples.download_lidar()\n\ntstart = time.time()\nclipped = lidar.clip(origin=(0, 0, 1.76e3), normal=(0, 0, 1))\nt_elapsed = time.time() - tstart\nprint(f\"Time to clip with a PolyData {t_elapsed:.2f} seconds.\")"
      ]
    },
    {
      "cell_type": "markdown",
      "metadata": {},
      "source": [
        "Plot the clipped polydata\n\n"
      ]
    },
    {
      "cell_type": "code",
      "execution_count": null,
      "metadata": {
        "collapsed": false
      },
      "outputs": [],
      "source": [
        "clipped.plot(show_scalar_bar=False)"
      ]
    },
    {
      "cell_type": "markdown",
      "metadata": {},
      "source": [
        "Show the performance improvement when using a PointSet.\nThis is only available with VTK >= 9.1.0.\n\n"
      ]
    },
    {
      "cell_type": "code",
      "execution_count": null,
      "metadata": {
        "collapsed": false
      },
      "outputs": [],
      "source": [
        "# pset = lidar.cast_to_pointset(deep=False)\n\nif pv.vtk_version_info >= (9, 1):\n    lidar_pset = lidar.cast_to_pointset()\n    tstart = time.time()\n    clipped_pset = lidar_pset.clip(origin=(0, 0, 1.76e3), normal=(0, 0, 1))\n    t_elapsed = time.time() - tstart\n    print(f\"Time to clip with a PointSet {t_elapsed:.2f} seconds.\")"
      ]
    },
    {
      "cell_type": "markdown",
      "metadata": {},
      "source": [
        "Plot the same dataset.\n\n<div class=\"alert alert-info\"><h4>Note</h4><p>PyVista must still create an intermediate PolyData to be able to plot, so\n   there is no performance improvement when using a :class:`pyvista.PointSet`</p></div>\n\n"
      ]
    },
    {
      "cell_type": "code",
      "execution_count": null,
      "metadata": {
        "collapsed": false
      },
      "outputs": [],
      "source": [
        "if pv.vtk_version_info >= (9, 1):\n    clipped_pset.plot(show_scalar_bar=False)"
      ]
    }
  ],
  "metadata": {
    "kernelspec": {
      "display_name": "Python 3",
      "language": "python",
      "name": "python3"
    },
    "language_info": {
      "codemirror_mode": {
        "name": "ipython",
        "version": 3
      },
      "file_extension": ".py",
      "mimetype": "text/x-python",
      "name": "python",
      "nbconvert_exporter": "python",
      "pygments_lexer": "ipython3",
      "version": "3.8.0"
    }
  },
  "nbformat": 4,
  "nbformat_minor": 0
}