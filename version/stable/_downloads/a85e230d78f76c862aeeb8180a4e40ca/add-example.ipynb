{
  "cells": [
    {
      "cell_type": "code",
      "execution_count": null,
      "metadata": {
        "collapsed": false
      },
      "outputs": [],
      "source": [
        "%matplotlib inline\nfrom pyvista import set_plot_theme\nset_plot_theme('document')"
      ]
    },
    {
      "cell_type": "markdown",
      "metadata": {},
      "source": [
        "\n\n# Adding a New Gallery Example\nThis example demonstrates how to add a new PyVista [Sphinx Gallery](https://sphinx-gallery.github.io/) example as well as being a template that\ncan be used in their creation.\n\nEach example should have a reference tag/key in the form:\n\n``.. _<example-name>_example:``\n\nThe ``.. _`` is necessary. Everything that follows is your reference tag, which\ncan potentially be used within a docstring. As convention, we keep all\nreferences all in ``snake_case``.\n\nThis section should give a brief overview of what the example is about and/or\ndemonstrates.  The title should be changed to reflect the topic your example\ncovers.\n\nNew examples should be added as python scripts to:\n\n``examples/<index>-<directory-name>/<some-example>.py``\n\n<div class=\"alert alert-info\"><h4>Note</h4><p>Avoid creating new directories unless absolutely necessary.If you *must*\n   create a new folder, make sure to add a ``README.txt`` containing a\n   reference, a title and a single sentence description of the folder.\n   Otherwise the new folder will be ignored by Sphinx.</p></div>\n\nExample file names should be hyphen separated snake case:\n\n``some-example.py``\n\nAfter this preamble is complete, the first code block begins. This is where you\ntypically set up your imports.\n"
      ]
    },
    {
      "cell_type": "code",
      "execution_count": null,
      "metadata": {
        "collapsed": false
      },
      "outputs": [],
      "source": [
        "import pyvista as pv\nfrom pyvista import examples"
      ]
    },
    {
      "cell_type": "markdown",
      "metadata": {},
      "source": [
        "## Section Title\nCode blocks can be broken up with text \"sections\" which are interpreted as\nrestructured text.\n\nThis will also be translated into a markdown cell in the generated jupyter\nnotebook or the HTML page.\n\nSections can contain any information you may have regarding the example\nsuch as step-by-step comments or notes regarding motivations etc.\n\nAs in Jupyter notebooks, if a statement is unassigned at the end of a code\nblock, output will be generated and printed to the screen according to its\n``__repr__`` method.  Otherwise, you can use ``print()`` to output text.\n\n"
      ]
    },
    {
      "cell_type": "code",
      "execution_count": null,
      "metadata": {
        "collapsed": false
      },
      "outputs": [],
      "source": [
        "# Create a dataset and exercise it's repr method\ndataset = pv.Sphere()\ndataset"
      ]
    },
    {
      "cell_type": "markdown",
      "metadata": {},
      "source": [
        "## Plots and images\nIf you use anything that outputs an image (for example,\n:func:`pyvista.Plotter.show`) the resulting image will be rendered within the\noutput HTML.\n\n<div class=\"alert alert-info\"><h4>Note</h4><p>Unless ``sphinx_gallery_thumbnail_number = <int>`` is included at the top\n   of the example script, first figure (this one) will be used for the\n   gallery thumbnail image.\n\n   Also note that this image number uses one based indexing.</p></div>\n\n"
      ]
    },
    {
      "cell_type": "code",
      "execution_count": null,
      "metadata": {
        "collapsed": false
      },
      "outputs": [],
      "source": [
        "dataset.plot(text='Example Figure')"
      ]
    },
    {
      "cell_type": "markdown",
      "metadata": {},
      "source": [
        "## Caveat - Plotter must be within One Cell\nIt's not possible for a single :class:`pyvista.Plotter` object across\nmultiple cells because these are closed out automatically at the end of a\ncell.\n\nHere we just exercise the :class:`pyvista.Actor` ``repr`` for demonstrating\nwhy you might want to instantiate a plotter without showing it in the same\ncell.\n\n"
      ]
    },
    {
      "cell_type": "code",
      "execution_count": null,
      "metadata": {
        "collapsed": false
      },
      "outputs": [],
      "source": [
        "pl = pv.Plotter()\nactor = pl.add_mesh(dataset)\nactor"
      ]
    },
    {
      "cell_type": "markdown",
      "metadata": {},
      "source": [
        "## This Cell Cannot Run the Plotter\nThe plotter will already be closed by ``sphinx_gallery``.\n\n"
      ]
    },
    {
      "cell_type": "code",
      "execution_count": null,
      "metadata": {
        "collapsed": false
      },
      "outputs": [],
      "source": [
        "# This cannot be run here because the plotter is already closed and would raise\n# an error:\n# >>> pl.show()\n\n# You can, however, close out the plotter or access other attributes.\npl.close()"
      ]
    },
    {
      "cell_type": "markdown",
      "metadata": {},
      "source": [
        "## Animations\nYou can even create animations, and while there is a full example in\n`movie_example`, this cell explains how you can create an animation\nwithin a single cell.\n\nHere, we explode a simple sphere.\n\n"
      ]
    },
    {
      "cell_type": "code",
      "execution_count": null,
      "metadata": {
        "collapsed": false
      },
      "outputs": [],
      "source": [
        "pl = pv.Plotter(off_screen=True)\n\n# optimize for size\npl.open_gif('example_movie.gif', palettesize=16)\n\nsphere = pv.Sphere(theta_resolution=10, phi_resolution=10)\n\n# Add initial mesh to setup the camera\nactor = pl.add_mesh(sphere)\npl.background_color = 'w'\n\n# clear and overwrite the mesh on each frame\nn_frames = 20\nfor i in range(n_frames):\n    exploded = sphere.explode(factor=i / (n_frames * 2)).extract_surface()\n    actor.mapper.dataset.copy_from(exploded)\n    pl.camera.reset_clipping_range()\n    pl.write_frame()  # Write this frame\n\n# Be sure to close the plotter when finished\npl.close()"
      ]
    },
    {
      "cell_type": "markdown",
      "metadata": {},
      "source": [
        "## Adding Example Files\nPyVista has a variety of example files all stored at [pyvista/vtk_data](https://github.com/pyvista/vtk-data), and you can add the file by\nfollowing the directions there.\n\nUnder the hood, PyVista uses [pooch](https://github.com/fatiando/pooch),\nand you can easily access any files added with\n:func:`pyvista.examples.downloads.download_file`.\n\n"
      ]
    },
    {
      "cell_type": "code",
      "execution_count": null,
      "metadata": {
        "collapsed": false
      },
      "outputs": [],
      "source": [
        "filename = examples.download_file('bunny.ply')\nfilename"
      ]
    },
    {
      "cell_type": "markdown",
      "metadata": {},
      "source": [
        "## Adding a Wrapped Example\nWhile it's possible to simply download a file and then read it in, it's\nbetter for you to write a wrapped ``download_<example-dataset>()`` within\n``/pyvista/examples/downloads.py``. For example :func:`download_bunny()\n<pyvista.examples.downloads.download_bunny>` downloads and reads with\n:func:`pyvista.read`.\n\nIf you intend on adding an example file, you should add a new function in\n``downloads.py`` to make it easy for users to add example files.\n\n"
      ]
    },
    {
      "cell_type": "code",
      "execution_count": null,
      "metadata": {
        "collapsed": false
      },
      "outputs": [],
      "source": [
        "dataset = examples.download_bunny()\ndataset\n\n\n# Making a Pull Request\n# ~~~~~~~~~~~~~~~~~~~~~\n# Once your example is complete and you've verified it builds locally, you can\n# make a pull request (PR).\n#\n# Branches containing examples should be prefixed with `docs/` as per the branch\n# naming conventions found in out `Contributing Guidelines\n# <https://github.com/pyvista/pyvista/blob/main/CONTRIBUTING.rst>`_.\n#\n# .. note::\n#    You only need to create the Python source example (``*.py``).  The jupyter\n#    notebook and the example HTML will be auto-generated via `sphinx-gallery\n#    <https://sphinx-gallery.github.io/>`_."
      ]
    }
  ],
  "metadata": {
    "kernelspec": {
      "display_name": "Python 3",
      "language": "python",
      "name": "python3"
    },
    "language_info": {
      "codemirror_mode": {
        "name": "ipython",
        "version": 3
      },
      "file_extension": ".py",
      "mimetype": "text/x-python",
      "name": "python",
      "nbconvert_exporter": "python",
      "pygments_lexer": "ipython3",
      "version": "3.11.2"
    }
  },
  "nbformat": 4,
  "nbformat_minor": 0
}