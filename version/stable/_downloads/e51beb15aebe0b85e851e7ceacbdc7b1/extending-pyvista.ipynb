{
  "cells": [
    {
      "cell_type": "code",
      "execution_count": null,
      "metadata": {
        "collapsed": false
      },
      "outputs": [],
      "source": [
        "%matplotlib inline\nfrom pyvista import set_plot_theme\nset_plot_theme('document')"
      ]
    },
    {
      "cell_type": "markdown",
      "metadata": {},
      "source": [
        "\n\n# Extending PyVista\n\nA :class:`pyvista.DataSet`, such as :class:`pyvista.PolyData`, can be extended\nby users.  For example, if the user wants to keep track of the location of the\nmaximum point in the (1, 0, 1) direction on the mesh.\n\nThere are two methods by which users can handle subclassing.  One is directly managing\nthe types objects.  This may require checking types during filter\noperations.\n\nThe second is automatic managing of types.  Users can control whether user defined\nclasses are nearly always used for particular types of DataSets.\n\n<div class=\"alert alert-info\"><h4>Note</h4><p>This is for advanced usage only.  Automatic managing of types\n    will not work in all situations, in particular when a builtin dataset is directly\n    instantiated.  See examples below.</p></div>\n"
      ]
    },
    {
      "cell_type": "code",
      "execution_count": null,
      "metadata": {
        "collapsed": false
      },
      "outputs": [],
      "source": [
        "import numpy as np\nimport vtk\n\nimport pyvista\n\npyvista.set_plot_theme(\"document\")"
      ]
    },
    {
      "cell_type": "markdown",
      "metadata": {},
      "source": [
        "A user defined subclass of :class:`pyvista.PolyData`, ``FooData`` is defined.\nIt includes a property to keep track of the point on the mesh that is\nfurthest along in the (1, 0, 1) direction.\n\n"
      ]
    },
    {
      "cell_type": "code",
      "execution_count": null,
      "metadata": {
        "collapsed": false
      },
      "outputs": [],
      "source": [
        "class FooData(pyvista.PolyData):\n    @property\n    def max_point(self):\n        \"\"\"Returns index of point that is furthest along (1, 0, 1) direction.\"\"\"\n        return np.argmax(np.dot(self.points, (1.0, 0.0, 1.0)))"
      ]
    },
    {
      "cell_type": "markdown",
      "metadata": {},
      "source": [
        "## Directly Managing Types\n\nNow a ``foo_sphere`` object is created of type ``FooData``.\nThe index of the point and location of the point of interest can be obtained\ndirectly. The sphere has a radius of 0.5, so the maximum extent in the\ndirection (1, 0, 1) is $0.5\\sqrt{0.5}\\approx0.354$\n\n\n"
      ]
    },
    {
      "cell_type": "code",
      "execution_count": null,
      "metadata": {
        "collapsed": false
      },
      "outputs": [],
      "source": [
        "foo_sphere = FooData(pyvista.Sphere(theta_resolution=100, phi_resolution=100))\nprint(\"Original foo sphere:\")\nprint(f\"Type: {type(foo_sphere)}\")\nprint(f\"Maximum point index: {foo_sphere.max_point}\")\nprint(f\"Location of maximum point: {foo_sphere.points[foo_sphere.max_point, :]}\")"
      ]
    },
    {
      "cell_type": "markdown",
      "metadata": {},
      "source": [
        "Using an inplace operation like :func:`pyvista.DataSet.rotate_y` does not\naffect the type of the object.\n\n"
      ]
    },
    {
      "cell_type": "code",
      "execution_count": null,
      "metadata": {
        "collapsed": false
      },
      "outputs": [],
      "source": [
        "foo_sphere.rotate_y(90, inplace=True)\nprint(\"\\nRotated foo sphere:\")\nprint(f\"Type: {type(foo_sphere)}\")\nprint(f\"Maximum point index: {foo_sphere.max_point}\")\nprint(f\"Location of maximum point: {foo_sphere.points[foo_sphere.max_point, :]}\")"
      ]
    },
    {
      "cell_type": "markdown",
      "metadata": {},
      "source": [
        "However, filter operations can return different ``DataSet`` types including\nones that differ from the original type.  In this case, the\n:func:`decimate <pyvista.PolyDataFilters.decimate>` method returns a\n:class:`pyvista.PolyData` object.\n\n"
      ]
    },
    {
      "cell_type": "code",
      "execution_count": null,
      "metadata": {
        "collapsed": false
      },
      "outputs": [],
      "source": [
        "print(\"\\nDecimated foo sphere:\")\ndecimated_foo_sphere = foo_sphere.decimate(0.5)\nprint(f\"Type: {type(decimated_foo_sphere)}\")"
      ]
    },
    {
      "cell_type": "markdown",
      "metadata": {},
      "source": [
        "It is now required to explicitly wrap the object into ``FooData``.\n\n"
      ]
    },
    {
      "cell_type": "code",
      "execution_count": null,
      "metadata": {
        "collapsed": false
      },
      "outputs": [],
      "source": [
        "decimated_foo_sphere = FooData(foo_sphere.decimate(0.5))\nprint(f\"Type: {type(decimated_foo_sphere)}\")\nprint(f\"Maximum point index: {decimated_foo_sphere.max_point}\")\nprint(f\"Location of maximum point: {foo_sphere.points[foo_sphere.max_point, :]}\")"
      ]
    },
    {
      "cell_type": "markdown",
      "metadata": {},
      "source": [
        "## Automatically Managing Types\n\nThe default :class:`pyvista.DataSet` type can be set using ``pyvista._wrappers``.\nIn general, it is best to use this method when it is expected to primarily\nuse the user defined class.\n\nIn this example, all objects that would have been created as\n:class:`pyvista.PolyData` would now be created as a ``FooData`` object. Note,\nthat the key is the underlying vtk object.\n\n"
      ]
    },
    {
      "cell_type": "code",
      "execution_count": null,
      "metadata": {
        "collapsed": false
      },
      "outputs": [],
      "source": [
        "pyvista._wrappers['vtkPolyData'] = FooData"
      ]
    },
    {
      "cell_type": "markdown",
      "metadata": {},
      "source": [
        "It is no longer necessary to specifically wrap :class:`pyvista.PolyData`\nobjects to obtain a ``FooData`` object.\n\n"
      ]
    },
    {
      "cell_type": "code",
      "execution_count": null,
      "metadata": {
        "collapsed": false
      },
      "outputs": [],
      "source": [
        "foo_sphere = pyvista.Sphere(theta_resolution=100, phi_resolution=100)\nprint(\"Original foo sphere:\")\nprint(f\"Type: {type(foo_sphere)}\")\nprint(f\"Maximum point index: {foo_sphere.max_point}\")\nprint(f\"Location of maximum point: {foo_sphere.points[foo_sphere.max_point, :]}\")"
      ]
    },
    {
      "cell_type": "markdown",
      "metadata": {},
      "source": [
        "Using an inplace operation like :func:`rotate_y <pyvista.DataSet.rotate_y>` does not\naffect the type of the object.\n\n"
      ]
    },
    {
      "cell_type": "code",
      "execution_count": null,
      "metadata": {
        "collapsed": false
      },
      "outputs": [],
      "source": [
        "foo_sphere.rotate_y(90, inplace=True)\nprint(\"\\nRotated foo sphere:\")\nprint(f\"Type: {type(foo_sphere)}\")\nprint(f\"Maximum point index: {foo_sphere.max_point}\")\nprint(f\"Location of maximum point: {foo_sphere.points[foo_sphere.max_point, :]}\")"
      ]
    },
    {
      "cell_type": "markdown",
      "metadata": {},
      "source": [
        "Filter operations that return :class:`pyvista.PolyData` now return\n``FooData``\n\n"
      ]
    },
    {
      "cell_type": "code",
      "execution_count": null,
      "metadata": {
        "collapsed": false
      },
      "outputs": [],
      "source": [
        "print(\"\\nDecimated foo sphere:\")\ndecimated_foo_sphere = foo_sphere.decimate(0.5)\nprint(f\"Type: {type(decimated_foo_sphere)}\")\nprint(f\"Maximum point index: {decimated_foo_sphere.max_point}\")\nprint(f\"Location of maximum point: {foo_sphere.points[foo_sphere.max_point, :]}\")"
      ]
    },
    {
      "cell_type": "markdown",
      "metadata": {},
      "source": [
        "Users can still create a native :class:`pyvista.PolyData` object, but\nusing this method may incur unintended consequences.  In this case,\nit is recommended to use the directly managing types method.\n\n"
      ]
    },
    {
      "cell_type": "code",
      "execution_count": null,
      "metadata": {
        "collapsed": false
      },
      "outputs": [],
      "source": [
        "poly_object = pyvista.PolyData(vtk.vtkPolyData())\nprint(f\"Type: {type(poly_object)}\")\n# catch error\ntry:\n    poly_object.rotate_y(90, inplace=True)\nexcept TypeError:\n    print(\"This operation fails\")"
      ]
    },
    {
      "cell_type": "markdown",
      "metadata": {},
      "source": [
        "Usage of ``pyvista._wrappers`` may require resetting the default value\nto avoid leaking the setting into cases where it is unused.\n\n"
      ]
    },
    {
      "cell_type": "code",
      "execution_count": null,
      "metadata": {
        "collapsed": false
      },
      "outputs": [],
      "source": [
        "pyvista._wrappers['vtkPolyData'] = pyvista.PolyData"
      ]
    },
    {
      "cell_type": "markdown",
      "metadata": {},
      "source": [
        "For instances where a localized usage is preferred, a tear-down method is\nrecommended.  One example is a ``try...finally`` block.\n\n"
      ]
    },
    {
      "cell_type": "code",
      "execution_count": null,
      "metadata": {
        "collapsed": false
      },
      "outputs": [],
      "source": [
        "try:\n    pyvista._wrappers['vtkPolyData'] = FooData\n    # some operation that sometimes raises an error\nfinally:\n    pyvista._wrappers['vtkPolyData'] = pyvista.PolyData"
      ]
    }
  ],
  "metadata": {
    "kernelspec": {
      "display_name": "Python 3",
      "language": "python",
      "name": "python3"
    },
    "language_info": {
      "codemirror_mode": {
        "name": "ipython",
        "version": 3
      },
      "file_extension": ".py",
      "mimetype": "text/x-python",
      "name": "python",
      "nbconvert_exporter": "python",
      "pygments_lexer": "ipython3",
      "version": "3.11.2"
    }
  },
  "nbformat": 4,
  "nbformat_minor": 0
}