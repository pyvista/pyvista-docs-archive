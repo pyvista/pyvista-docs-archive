{
  "cells": [
    {
      "cell_type": "code",
      "execution_count": null,
      "metadata": {
        "collapsed": false
      },
      "outputs": [],
      "source": [
        "%matplotlib inline\nfrom pyvista import set_plot_theme\nset_plot_theme('document')"
      ]
    },
    {
      "cell_type": "markdown",
      "metadata": {},
      "source": [
        "\n\n# Surface Smoothing\n\nSmoothing rough edges of a surface mesh\n"
      ]
    },
    {
      "cell_type": "code",
      "execution_count": null,
      "metadata": {
        "collapsed": false
      },
      "outputs": [],
      "source": [
        "import pyvista as pv\nfrom pyvista import examples"
      ]
    },
    {
      "cell_type": "markdown",
      "metadata": {},
      "source": [
        "Suppose you extract a volumetric subset of a dataset that has roughly defined\nedges. Perhaps you'd like a smooth representation of that model region. This\ncan be achieved by extracting the bounding surface of the volume and applying\na :func:`pyvista.PolyDataFilters.smooth` filter.\n\nThe below code snippet loads a sample roughly edged volumetric dataset:\n\n"
      ]
    },
    {
      "cell_type": "code",
      "execution_count": null,
      "metadata": {
        "collapsed": false
      },
      "outputs": [],
      "source": [
        "# Vector to view rough edges\ncpos = [-2, 5, 3]\n\n# Load dataset\ndata = examples.load_uniform()\n# Extract a rugged volume\nvol = data.threshold_percent(30, invert=1)\nvol.plot(show_edges=True, cpos=cpos, show_scalar_bar=False)"
      ]
    },
    {
      "cell_type": "markdown",
      "metadata": {},
      "source": [
        "Extract the outer surface of the volume using the\n:func:`pyvista.DataSetFilters.extract_geometry` filter and then apply the\nsmoothing filter:\n\n"
      ]
    },
    {
      "cell_type": "code",
      "execution_count": null,
      "metadata": {
        "collapsed": false
      },
      "outputs": [],
      "source": [
        "# Get the out surface as PolyData\nsurf = vol.extract_geometry()\n# Smooth the surface\nsmooth = surf.smooth()\nsmooth.plot(show_edges=True, cpos=cpos, show_scalar_bar=False)"
      ]
    },
    {
      "cell_type": "markdown",
      "metadata": {},
      "source": [
        "Not smooth enough? Try increasing the number of iterations for the Laplacian\nsmoothing algorithm:\n\n"
      ]
    },
    {
      "cell_type": "code",
      "execution_count": null,
      "metadata": {
        "collapsed": false
      },
      "outputs": [],
      "source": [
        "# Smooth the surface even more\nsmooth = surf.smooth(n_iter=100)\nsmooth.plot(show_edges=True, cpos=cpos, show_scalar_bar=False)"
      ]
    },
    {
      "cell_type": "markdown",
      "metadata": {},
      "source": [
        "Still not smooth enough? Increase the number of iterations for the Laplacian\nsmoothing algorithm to a crazy high value. Note how this causes the mesh to\n\"shrink\":\n\n"
      ]
    },
    {
      "cell_type": "code",
      "execution_count": null,
      "metadata": {
        "collapsed": false
      },
      "outputs": [],
      "source": [
        "# Smooth the surface EVEN MORE\nsmooth = surf.smooth(n_iter=1000)\n\n# extract the edges of the original unsmoothed mesh\norig_edges = surf.extract_feature_edges()\n\npl = pv.Plotter()\npl.add_mesh(smooth, show_edges=True, show_scalar_bar=False)\npl.camera_position = cpos\npl.add_mesh(orig_edges, show_scalar_bar=False, color='k', line_width=2)\npl.show()"
      ]
    },
    {
      "cell_type": "markdown",
      "metadata": {},
      "source": [
        "# Taubin Smoothing\nYou can reduce the amount of surface shrinkage by using Taubin smoothing\nrather than the default laplacian smoothing implemented in :func:`smooth()\n<pyvista.PolyDataFilters.smooth>`. In this example, you can see how Taubin\nsmoothing maintains the volume relative to the original mesh.\n\nAlso, note that the number of iterations can be reduced to get the same approximate amount of smoothing. This is because Taubin smoothing is more efficient.\n\n"
      ]
    },
    {
      "cell_type": "code",
      "execution_count": null,
      "metadata": {
        "collapsed": false
      },
      "outputs": [],
      "source": [
        "smooth_w_taubin = surf.smooth_taubin(n_iter=50, pass_band=0.05)\n\npl = pv.Plotter()\npl.add_mesh(smooth_w_taubin, show_edges=True, show_scalar_bar=False)\npl.camera_position = cpos\npl.add_mesh(orig_edges, show_scalar_bar=False, color='k', line_width=2)\npl.show()\n\n# output the volumes of the original and smoothed meshes\nprint(f'Original surface volume:   {surf.volume:.1f}')\nprint(f'Laplacian smoothed volume: {smooth.volume:.1f}')\nprint(f'Taubin smoothed volume:    {smooth_w_taubin.volume:.1f}')"
      ]
    }
  ],
  "metadata": {
    "kernelspec": {
      "display_name": "Python 3",
      "language": "python",
      "name": "python3"
    },
    "language_info": {
      "codemirror_mode": {
        "name": "ipython",
        "version": 3
      },
      "file_extension": ".py",
      "mimetype": "text/x-python",
      "name": "python",
      "nbconvert_exporter": "python",
      "pygments_lexer": "ipython3",
      "version": "3.11.2"
    }
  },
  "nbformat": 4,
  "nbformat_minor": 0
}