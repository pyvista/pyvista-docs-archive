{
  "cells": [
    {
      "cell_type": "code",
      "execution_count": null,
      "metadata": {
        "collapsed": false
      },
      "outputs": [],
      "source": [
        "%matplotlib inline\nfrom pyvista import set_plot_theme\nset_plot_theme('document')"
      ]
    },
    {
      "cell_type": "markdown",
      "metadata": {},
      "source": [
        "\n\n# Triangle Strips\n\nThis example shows how to build a simple :class:`pyvista.PolyData` using\ntriangle strips.\n\nTriangle strips are a more efficient way of storing the connectivity of\nadjacent triangles.\n"
      ]
    },
    {
      "cell_type": "code",
      "execution_count": null,
      "metadata": {
        "collapsed": false
      },
      "outputs": [],
      "source": [
        "import numpy as np\n\nimport pyvista as pv\n\n# Create an array of points\npoints = np.array(\n    [\n        [1.0, 0.0, 0.0],\n        [0.0, 0.0, 0.0],\n        [1.0, 1.0, 0.0],\n        [0.0, 1.0, 0.0],\n        [1.0, 2.0, 0.0],\n        [0.0, 2.0, 0.0],\n        [1.0, 3.0, 0.0],\n        [0.0, 3.0, 0.0],\n    ]\n)"
      ]
    },
    {
      "cell_type": "markdown",
      "metadata": {},
      "source": [
        "# Build the connectivity of the strips\nThe first element is the number of points in the strip next three elements is the\ninitial triangle the rest of the points is where the strip extends to.\n\n"
      ]
    },
    {
      "cell_type": "code",
      "execution_count": null,
      "metadata": {
        "collapsed": false
      },
      "outputs": [],
      "source": [
        "strips = np.array([8, 0, 1, 2, 3, 4, 5, 6, 7])\n\n\n# build the mesh\nmesh = pv.PolyData(points, strips=strips)\nmesh"
      ]
    },
    {
      "cell_type": "markdown",
      "metadata": {},
      "source": [
        "# Plot the triangle strips\nPlot the ``PolyData`` and include the point labels using\n:func:`add_point_labels() <pyvista.Plotter.add_point_labels>` so we can see how\nthe PolyData is constructed using triangle strips.\n\n"
      ]
    },
    {
      "cell_type": "code",
      "execution_count": null,
      "metadata": {
        "collapsed": false
      },
      "outputs": [],
      "source": [
        "pl = pv.Plotter()\npl.add_mesh(mesh, show_edges=True)\npl.add_point_labels(mesh.points, range(mesh.n_points))\npl.camera_position = 'yx'\npl.camera.zoom(1.2)\npl.show()"
      ]
    },
    {
      "cell_type": "markdown",
      "metadata": {},
      "source": [
        "# Convert strips to triangles\nYou can convert strips to triangle faces using :func:`triangulate\n<pyvista.DataSetFilters.triangulate>`.\n\n"
      ]
    },
    {
      "cell_type": "code",
      "execution_count": null,
      "metadata": {
        "collapsed": false
      },
      "outputs": [],
      "source": [
        "trimesh = mesh.triangulate()\ntrimesh"
      ]
    },
    {
      "cell_type": "markdown",
      "metadata": {},
      "source": [
        "We can use this new :class:`pyvista.PolyData` to see how VTK represents\ntriangle strips as individual faces.\n\nSee how the faces array is much larger (~3x more) even for this basic example\neven despite representing the same data.\n\n<div class=\"alert alert-info\"><h4>Note</h4><p>The faces array from VTK always contains padding (the number of points in\n   the face) for each face in the face array. This is the initial ``3`` in\n   the following face array.</p></div>\n\n"
      ]
    },
    {
      "cell_type": "code",
      "execution_count": null,
      "metadata": {
        "collapsed": false
      },
      "outputs": [],
      "source": [
        "faces = trimesh.faces.reshape(-1, 4)\nfaces"
      ]
    },
    {
      "cell_type": "markdown",
      "metadata": {},
      "source": [
        "# Convert triangles to strips\nConvert faces from a :class:`pyvista.PolyData` to strips using :func:`strip()\n<pyvista.PolyDataFilters.strip>`. Here, for demonstration purposes we convert the\ntriangulated mesh back to a stripped mesh.\n\n"
      ]
    },
    {
      "cell_type": "code",
      "execution_count": null,
      "metadata": {
        "collapsed": false
      },
      "outputs": [],
      "source": [
        "restripped = trimesh.strip()\nrestripped"
      ]
    },
    {
      "cell_type": "markdown",
      "metadata": {},
      "source": [
        "The output from the ``strip`` filter is, as expected, identical to the\noriginal ``mesh``.\n\n"
      ]
    },
    {
      "cell_type": "code",
      "execution_count": null,
      "metadata": {
        "collapsed": false
      },
      "outputs": [],
      "source": [
        "restripped == mesh"
      ]
    }
  ],
  "metadata": {
    "kernelspec": {
      "display_name": "Python 3",
      "language": "python",
      "name": "python3"
    },
    "language_info": {
      "codemirror_mode": {
        "name": "ipython",
        "version": 3
      },
      "file_extension": ".py",
      "mimetype": "text/x-python",
      "name": "python",
      "nbconvert_exporter": "python",
      "pygments_lexer": "ipython3",
      "version": "3.11.2"
    }
  },
  "nbformat": 4,
  "nbformat_minor": 0
}