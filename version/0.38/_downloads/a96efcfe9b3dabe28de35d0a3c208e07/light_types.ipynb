{
  "cells": [
    {
      "cell_type": "code",
      "execution_count": null,
      "metadata": {
        "collapsed": false
      },
      "outputs": [],
      "source": [
        "%matplotlib inline\nfrom pyvista import set_plot_theme\nset_plot_theme('document')"
      ]
    },
    {
      "cell_type": "markdown",
      "metadata": {},
      "source": [
        "\n\n# Light Types\n\nLights come in three types:\n\n  * headlights, the axis of which always coincides with the view of the camera,\n  * camera lights, which move together with the camera, but which can occupy\n    any fixed relative position with respect to the camera,\n  * scene lights, the position of which is fixed to the scene, and which is thus\n    unaffected by moving the camera. This is the default type.\n\n## Headlight\n\nFor headlights the :py:attr:`pyvista.Camera.position` and\n:py:attr:`pyvista.Camera.focal_point` properties are meaningless. No matter\nwhere you move the camera, the light always emanates from the view point:\n"
      ]
    },
    {
      "cell_type": "code",
      "execution_count": null,
      "metadata": {
        "collapsed": false
      },
      "outputs": [],
      "source": [
        "import pyvista as pv\nfrom pyvista import examples\n\nmesh = examples.download_bunny()\nmesh.rotate_x(90, inplace=True)\nmesh.rotate_z(180, inplace=True)\n\nplotter = pv.Plotter(lighting='none')\nplotter.add_mesh(mesh, color='tan', smooth_shading=True)\nlight = pv.Light(light_type='headlight')\n# these don't do anything for a headlight:\nlight.position = (1, 2, 3)\nlight.focal_point = (4, 5, 6)\nplotter.add_light(light)\nplotter.show()"
      ]
    },
    {
      "cell_type": "markdown",
      "metadata": {},
      "source": [
        "## Camera light\n\nCamera lights define their :py:attr:`pyvista.Camera.position` and\n:py:attr:`pyvista.Camera.focal_point` properties in a coordinate system that\nis local to the camera. The coordinates in the scene's coordinate system can\nbe accessed through the :py:attr:`pyvista.Light.world_position` and\n:py:attr:`pyvista.Light.world_focal_point` read-only properties,\nrespectively. For specifics of the local coordinate system used for the\ncoordinates please see the documentation of\n:func:`pyvista.Light.set_camera_light`.\n\n"
      ]
    },
    {
      "cell_type": "code",
      "execution_count": null,
      "metadata": {
        "collapsed": false
      },
      "outputs": [],
      "source": [
        "plotter = pv.Plotter(lighting='none')\nplotter.add_mesh(mesh, color='tan', smooth_shading=True)\n# a light that always shines from the right of the camera\nlight = pv.Light(position=(1, 0, 0), light_type='camera light')\nplotter.add_light(light)\nplotter.show()"
      ]
    },
    {
      "cell_type": "markdown",
      "metadata": {},
      "source": [
        "## Scene light\n\nScene lights are attached to the scene, their position and focal point are\ninterpreted as global coordinates:\n\n"
      ]
    },
    {
      "cell_type": "code",
      "execution_count": null,
      "metadata": {
        "collapsed": false
      },
      "outputs": [],
      "source": [
        "plotter = pv.Plotter(lighting='none')\nplotter.add_mesh(mesh, color='tan', smooth_shading=True)\n# a light that always shines on the left side of the bunny\nlight = pv.Light(position=(0, 1, 0), light_type='scene light')\nplotter.add_light(light)\nplotter.show()"
      ]
    }
  ],
  "metadata": {
    "kernelspec": {
      "display_name": "Python 3",
      "language": "python",
      "name": "python3"
    },
    "language_info": {
      "codemirror_mode": {
        "name": "ipython",
        "version": 3
      },
      "file_extension": ".py",
      "mimetype": "text/x-python",
      "name": "python",
      "nbconvert_exporter": "python",
      "pygments_lexer": "ipython3",
      "version": "3.11.2"
    }
  },
  "nbformat": 4,
  "nbformat_minor": 0
}