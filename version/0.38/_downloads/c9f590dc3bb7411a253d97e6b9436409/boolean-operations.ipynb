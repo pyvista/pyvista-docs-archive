{
  "cells": [
    {
      "cell_type": "code",
      "execution_count": null,
      "metadata": {
        "collapsed": false
      },
      "outputs": [],
      "source": [
        "%matplotlib inline\nfrom pyvista import set_plot_theme\nset_plot_theme('document')"
      ]
    },
    {
      "cell_type": "markdown",
      "metadata": {},
      "source": [
        "\n\n# Boolean Operations\n\nPerform boolean operations with closed (manifold) surfaces.\n\nBoolean/topological operations (intersect, union, difference) methods\nare implemented for :class:`pyvista.PolyData` mesh types only and are\naccessible directly from any :class:`pyvista.PolyData` mesh. Check out\n:class:`pyvista.PolyDataFilters` and take a look at the following\nfilters:\n\n* :func:`pyvista.PolyDataFilters.boolean_difference`\n* :func:`pyvista.PolyDataFilters.boolean_union`\n* :func:`pyvista.PolyDataFilters.boolean_intersection`\n\nEssentially, boolean union, difference, and intersection are all the\nsame operation. Just different parts of the objects are kept at the\nend.\n\nThe ``-`` operator can be used between any two :class:`pyvista.PolyData`\nmeshes in PyVista to cut the first mesh by the second.  These meshes\nmust be all triangle meshes, which you can check with\n:attr:`pyvista.PolyData.is_all_triangles`.\n\n<div class=\"alert alert-info\"><h4>Note</h4><p>For merging, the ``+`` operator can be used between any two meshes\n   in PyVista which simply calls the ``.merge()`` filter to combine\n   any two meshes.  This is different from ``boolean_union`` as it\n   simply superimposes the two meshes without performing additional\n   calculations on the result.</p></div>\n\n<div class=\"alert alert-danger\"><h4>Warning</h4><p>If your boolean operations don't react the way you think they\n   should (i.e. the wrong parts disappear), one of your meshes\n   probably has its normals pointing inward. Use\n   :func:`pyvista.PolyDataFilters.plot_normals` to visualize the normals.</p></div>\n"
      ]
    },
    {
      "cell_type": "code",
      "execution_count": null,
      "metadata": {
        "collapsed": false
      },
      "outputs": [],
      "source": [
        "import pyvista as pv\n\nsphere_a = pv.Sphere()\nsphere_b = pv.Sphere(center=(0.5, 0, 0))"
      ]
    },
    {
      "cell_type": "markdown",
      "metadata": {},
      "source": [
        "## Boolean Union\n\nPerform a boolean union of ``A`` and ``B`` using the\n:func:`pyvista.PolyDataFilters.boolean_union` filter.\n\nThe union of two manifold meshes ``A`` and ``B`` is the mesh\nwhich is in ``A``, in ``B``, or in both ``A`` and ``B``.\n\nOrder of operands does not matter for boolean union (the operation is\ncommutative).\n\n"
      ]
    },
    {
      "cell_type": "code",
      "execution_count": null,
      "metadata": {
        "collapsed": false
      },
      "outputs": [],
      "source": [
        "result = sphere_a.boolean_union(sphere_b)\npl = pv.Plotter()\n_ = pl.add_mesh(sphere_a, color='r', style='wireframe', line_width=3)\n_ = pl.add_mesh(sphere_b, color='b', style='wireframe', line_width=3)\n_ = pl.add_mesh(result, color='tan')\npl.camera_position = 'xz'\npl.show()"
      ]
    },
    {
      "cell_type": "markdown",
      "metadata": {},
      "source": [
        "## Boolean Difference\n\nPerform a boolean difference of ``A`` and ``B`` using the\n:func:`pyvista.PolyDataFilters.boolean_difference` filter or the\n``-`` operator since both meshes are :class:`pyvista.PolyData`.\n\nThe difference of two manifold meshes ``A`` and ``B`` is the volume\nof the mesh in ``A`` not belonging to ``B``.\n\nOrder of operands matters for boolean difference.\n\n"
      ]
    },
    {
      "cell_type": "code",
      "execution_count": null,
      "metadata": {
        "collapsed": false
      },
      "outputs": [],
      "source": [
        "result = sphere_a.boolean_difference(sphere_b)\npl = pv.Plotter()\n_ = pl.add_mesh(sphere_a, color='r', style='wireframe', line_width=3)\n_ = pl.add_mesh(sphere_b, color='b', style='wireframe', line_width=3)\n_ = pl.add_mesh(result, color='tan')\npl.camera_position = 'xz'\npl.show()"
      ]
    },
    {
      "cell_type": "markdown",
      "metadata": {},
      "source": [
        "## Boolean Intersection\n\nPerform a boolean intersection of ``A`` and ``B`` using the\n:func:`pyvista.PolyDataFilters.boolean_intersection` filter.\n\nThe intersection of two manifold meshes ``A`` and ``B`` is the mesh\nwhich is the volume of ``A`` that is also in ``B``.\n\nOrder of operands does not matter for boolean intersection (the\noperation is commutative).\n\n"
      ]
    },
    {
      "cell_type": "code",
      "execution_count": null,
      "metadata": {
        "collapsed": false
      },
      "outputs": [],
      "source": [
        "result = sphere_a.boolean_intersection(sphere_b)\npl = pv.Plotter()\n_ = pl.add_mesh(sphere_a, color='r', style='wireframe', line_width=3)\n_ = pl.add_mesh(sphere_b, color='b', style='wireframe', line_width=3)\n_ = pl.add_mesh(result, color='tan')\npl.camera_position = 'xz'\npl.show()"
      ]
    },
    {
      "cell_type": "markdown",
      "metadata": {},
      "source": [
        "# Behavior due to flipped normals\nNote that these boolean filters behave differently depending on the\norientation of the normals.\n\nBoolean difference with both cube and sphere normals pointed\noutward.  This is the \"normal\" behavior.\n\n"
      ]
    },
    {
      "cell_type": "code",
      "execution_count": null,
      "metadata": {
        "collapsed": false
      },
      "outputs": [],
      "source": [
        "cube = pv.Cube().triangulate().subdivide(3)\nsphere = pv.Sphere(radius=0.6)\nresult = cube.boolean_difference(sphere)\nresult.plot(color='tan')"
      ]
    },
    {
      "cell_type": "markdown",
      "metadata": {},
      "source": [
        "Boolean difference with cube normals outward, sphere inward.\n\n"
      ]
    },
    {
      "cell_type": "code",
      "execution_count": null,
      "metadata": {
        "collapsed": false
      },
      "outputs": [],
      "source": [
        "cube = pv.Cube().triangulate().subdivide(3)\nsphere = pv.Sphere(radius=0.6)\nsphere.flip_normals()\nresult = cube.boolean_difference(sphere)\nresult.plot(color='tan')"
      ]
    },
    {
      "cell_type": "markdown",
      "metadata": {},
      "source": [
        "Boolean difference with cube normals inward, sphere outward.\n\n"
      ]
    },
    {
      "cell_type": "code",
      "execution_count": null,
      "metadata": {
        "collapsed": false
      },
      "outputs": [],
      "source": [
        "cube = pv.Cube().triangulate().subdivide(3)\ncube.flip_normals()\nsphere = pv.Sphere(radius=0.6)\nresult = cube.boolean_difference(sphere)\nresult.plot(color='tan')"
      ]
    },
    {
      "cell_type": "markdown",
      "metadata": {},
      "source": [
        "Both cube and sphere normals inward.\n\n"
      ]
    },
    {
      "cell_type": "code",
      "execution_count": null,
      "metadata": {
        "collapsed": false
      },
      "outputs": [],
      "source": [
        "cube = pv.Cube().triangulate().subdivide(3)\ncube.flip_normals()\nsphere = pv.Sphere(radius=0.6)\nsphere.flip_normals()\nresult = cube.boolean_difference(sphere)\nresult.plot(color='tan')"
      ]
    }
  ],
  "metadata": {
    "kernelspec": {
      "display_name": "Python 3",
      "language": "python",
      "name": "python3"
    },
    "language_info": {
      "codemirror_mode": {
        "name": "ipython",
        "version": 3
      },
      "file_extension": ".py",
      "mimetype": "text/x-python",
      "name": "python",
      "nbconvert_exporter": "python",
      "pygments_lexer": "ipython3",
      "version": "3.11.2"
    }
  },
  "nbformat": 4,
  "nbformat_minor": 0
}