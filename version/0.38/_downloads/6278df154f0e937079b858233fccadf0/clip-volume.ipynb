{
  "cells": [
    {
      "cell_type": "code",
      "execution_count": null,
      "metadata": {
        "collapsed": false
      },
      "outputs": [],
      "source": [
        "%matplotlib inline\nfrom pyvista import set_plot_theme\nset_plot_theme('document')"
      ]
    },
    {
      "cell_type": "markdown",
      "metadata": {},
      "source": [
        "\n\n# Clip Volume Widget\nIf you have a structured dataset like a :class:`pyvista.UniformGrid` or\n:class:`pyvista.RectilinearGrid`, you can clip it using the\n:func:`pyvista.Plotter.add_volume_clip_plane` widget to better see the internal\nstructure of the dataset.\n\n<img src=\"file://../../images/gifs/volume-clip-plane-widget.gif\">\n"
      ]
    },
    {
      "cell_type": "markdown",
      "metadata": {},
      "source": [
        "## Create the Dataset\nCreate a dense :class:`pyvista.UniformGrid` with dimensions ``(200, 200,\n200)`` and set the active scalars to distance from the :attr:`center\n<pyvista.DataSet.center>` of the grid.\n\n"
      ]
    },
    {
      "cell_type": "code",
      "execution_count": null,
      "metadata": {
        "collapsed": false
      },
      "outputs": [],
      "source": [
        "import numpy as np\n\nimport pyvista as pv\n\ngrid = pv.UniformGrid(dimensions=(200, 200, 200))\ngrid['scalars'] = np.linalg.norm(grid.center - grid.points, axis=1)\ngrid"
      ]
    },
    {
      "cell_type": "markdown",
      "metadata": {},
      "source": [
        "## Generate the Opacity Array\nCreate a banded opacity array such that our dataset shows \"rings\" at certain\nvalues. Have this increase such that higher values (values farther away from\nthe center) are more opaque.\n\n"
      ]
    },
    {
      "cell_type": "code",
      "execution_count": null,
      "metadata": {
        "collapsed": false
      },
      "outputs": [],
      "source": [
        "opacity = np.zeros(100)\nopacity[::10] = np.geomspace(0.01, 0.75, 10)"
      ]
    },
    {
      "cell_type": "markdown",
      "metadata": {},
      "source": [
        "## Plot a Single Clip Plane Dataset\nPlot the volume with a single clip plane.\n\nReverse the opacity array such that portions closer to the center are more\nopaque.\n\n"
      ]
    },
    {
      "cell_type": "code",
      "execution_count": null,
      "metadata": {
        "collapsed": false
      },
      "outputs": [],
      "source": [
        "pl = pv.Plotter()\npl.add_volume_clip_plane(grid, normal='-x', opacity=opacity[::-1], cmap='magma')\npl.show()"
      ]
    },
    {
      "cell_type": "markdown",
      "metadata": {},
      "source": [
        "## Plot Multiple Clip Planes\nPlot the dataset using the :func:`pyvista.Plotter.add_volume_clip_plane` with\nthe output from :func:`pyvista.Plotter.add_volume` Enable constant\ninteraction by setting the ``interaction_event`` to ``'always'``.\n\nDisable the arrows to make the plot a bit clearer and flip the opacity array.\n\n"
      ]
    },
    {
      "cell_type": "code",
      "execution_count": null,
      "metadata": {
        "collapsed": false
      },
      "outputs": [],
      "source": [
        "pl = pv.Plotter()\nvol = pl.add_volume(grid, opacity=opacity)\nvol.prop.interpolation_type = 'linear'\npl.add_volume_clip_plane(\n    vol,\n    normal='-x',\n    interaction_event='always',\n    normal_rotation=False,\n)\npl.add_volume_clip_plane(\n    vol,\n    normal='-y',\n    interaction_event='always',\n    normal_rotation=False,\n)\npl.show()"
      ]
    }
  ],
  "metadata": {
    "kernelspec": {
      "display_name": "Python 3",
      "language": "python",
      "name": "python3"
    },
    "language_info": {
      "codemirror_mode": {
        "name": "ipython",
        "version": 3
      },
      "file_extension": ".py",
      "mimetype": "text/x-python",
      "name": "python",
      "nbconvert_exporter": "python",
      "pygments_lexer": "ipython3",
      "version": "3.11.2"
    }
  },
  "nbformat": 4,
  "nbformat_minor": 0
}