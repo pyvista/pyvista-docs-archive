{
  "cells": [
    {
      "cell_type": "code",
      "execution_count": null,
      "metadata": {
        "collapsed": false
      },
      "outputs": [],
      "source": [
        "%matplotlib inline\nfrom pyvista import set_plot_theme\nset_plot_theme('document')"
      ]
    },
    {
      "cell_type": "markdown",
      "metadata": {},
      "source": [
        "\n\n# Disabling Mesh Lighting\n\nDisable mesh lighting.\n\nWhile plotters have a default set of lights and there are many options\nfor customizing lighting conditions in general, meshes have the option\nto opt out of lighting altogether. Pass ``lighting=False`` to\n:func:`pyvista.Plotter.add_mesh` to disable lighting for the given\nmesh:\n"
      ]
    },
    {
      "cell_type": "code",
      "execution_count": null,
      "metadata": {
        "collapsed": false
      },
      "outputs": [],
      "source": [
        "import pyvista as pv\nfrom pyvista import examples\n\nhorse = examples.download_horse().decimate(0.9)\nhorse.rotate_z(-120, inplace=True)\nhorse.points = (horse.points - horse.center) * 100\nshifted = horse.translate((0, 10, 0), inplace=False)\n\nplotter = pv.Plotter()\nplotter.add_mesh(horse, color='brown')\nplotter.add_mesh(shifted, color='brown', show_edges=True, lighting=False)\nplotter.show()"
      ]
    },
    {
      "cell_type": "markdown",
      "metadata": {},
      "source": [
        "Due to the obvious lack of depth detail this mostly makes sense for meshes\nwith non-trivial colors or textures. If it weren't for the edges being drawn,\nthe second mesh would be practically impossible to understand even with the\noption to interactively explore the surface:\n\n"
      ]
    },
    {
      "cell_type": "code",
      "execution_count": null,
      "metadata": {
        "collapsed": false
      },
      "outputs": [],
      "source": [
        "shifted.plot(color='brown', lighting=False)"
      ]
    },
    {
      "cell_type": "markdown",
      "metadata": {},
      "source": [
        "For further examples about fine-tuning mesh properties that affect\nlight rendering, see the `ref_lighting_properties_example` example.\n\n"
      ]
    }
  ],
  "metadata": {
    "kernelspec": {
      "display_name": "Python 3",
      "language": "python",
      "name": "python3"
    },
    "language_info": {
      "codemirror_mode": {
        "name": "ipython",
        "version": 3
      },
      "file_extension": ".py",
      "mimetype": "text/x-python",
      "name": "python",
      "nbconvert_exporter": "python",
      "pygments_lexer": "ipython3",
      "version": "3.11.2"
    }
  },
  "nbformat": 4,
  "nbformat_minor": 0
}